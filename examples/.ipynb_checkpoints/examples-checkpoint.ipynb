{
 "cells": [
  {
   "cell_type": "markdown",
   "metadata": {},
   "source": [
    "# Test polyhts "
   ]
  },
  {
   "cell_type": "markdown",
   "metadata": {},
   "source": [
    "## Issues\n",
    "\n",
    "* does not yet account for isomerism... how to do this smartly?\n",
    "* add ability to fix 1 monomer"
   ]
  },
  {
   "cell_type": "code",
   "execution_count": 1,
   "metadata": {},
   "outputs": [
    {
     "name": "stdout",
     "output_type": "stream",
     "text": [
      "env: XTBHOME=/home/liam/software/XTB\n",
      "env: OMP_NUM_THREADS=1\n",
      "env: MLK_NUM_THREADS=1\n"
     ]
    }
   ],
   "source": [
    "import polyhts\n",
    "import pandas as pd\n",
    "\n",
    "%env XTBHOME=/home/liam/software/XTB\n",
    "%env OMP_NUM_THREADS=1\n",
    "%env MLK_NUM_THREADS=1"
   ]
  },
  {
   "cell_type": "markdown",
   "metadata": {},
   "source": [
    "### Session with no solvent, selected in order"
   ]
  },
  {
   "cell_type": "code",
   "execution_count": null,
   "metadata": {},
   "outputs": [],
   "source": [
    "session = polyhts.Session('my_session', 4, 2, 10)\n",
    "session.screen('smiles-list.txt', nprocs=20)\n",
    "session.calc_polymer_properties(['c1c(Br)cc(Br)cc1', 'c1c(Br)cc(Br)cc1'], 'modular-test')\n",
    "print(session)"
   ]
  },
  {
   "cell_type": "code",
   "execution_count": null,
   "metadata": {
    "collapsed": true
   },
   "outputs": [],
   "source": [
    "screened = pd.read_csv('my_session/screening-output', sep=' ')\n",
    "screened"
   ]
  }
 ],
 "metadata": {
  "kernelspec": {
   "display_name": "Python 3",
   "language": "python",
   "name": "python3"
  },
  "language_info": {
   "codemirror_mode": {
    "name": "ipython",
    "version": 3
   },
   "file_extension": ".py",
   "mimetype": "text/x-python",
   "name": "python",
   "nbconvert_exporter": "python",
   "pygments_lexer": "ipython3",
   "version": "3.6.2"
  }
 },
 "nbformat": 4,
 "nbformat_minor": 2
}
