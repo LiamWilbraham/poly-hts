{
 "cells": [
  {
   "cell_type": "code",
   "execution_count": 6,
   "metadata": {},
   "outputs": [
    {
     "name": "stdout",
     "output_type": "stream",
     "text": [
      "env: MLK_NUM_THREADS=1\n",
      "env: OMP_NUM_THREADS=1\n"
     ]
    }
   ],
   "source": [
    "import polyhts\n",
    "%env MLK_NUM_THREADS = 1\n",
    "%env OMP_NUM_THREADS = 1"
   ]
  },
  {
   "cell_type": "markdown",
   "metadata": {},
   "source": [
    "### Session with no solvent, selected in order"
   ]
  },
  {
   "cell_type": "code",
   "execution_count": 7,
   "metadata": {},
   "outputs": [
    {
     "name": "stdout",
     "output_type": "stream",
     "text": [
      "modular-test :\n",
      "IP (V) = 6.5801\n",
      "EA (V) = 1.4608\n",
      "S0 -> S1 (eV) = 4.643\n",
      "F (a.u.) = 0.0005\n",
      "E Solv. = -0.753\n",
      "Session name: my_session\n",
      "Num. repeat units: 2\n",
      "Num. conformers: 10\n",
      "Solvent: benzene\n",
      "\n"
     ]
    }
   ],
   "source": [
    "session = polyhts.Session('my_session', 2, 10, solvent='benzene')\n",
    "session.screen('smiles-list.txt', nprocs=20)\n",
    "session.calc_polymer_properties('c1c(Br)cc(Br)cc1', 'c1c(Br)cc(Br)cc1', 'modular-test')\n",
    "print(session)"
   ]
  },
  {
   "cell_type": "markdown",
   "metadata": {},
   "source": [
    "### Session with benzene solvent, selected in order"
   ]
  },
  {
   "cell_type": "code",
   "execution_count": 8,
   "metadata": {},
   "outputs": [
    {
     "name": "stdout",
     "output_type": "stream",
     "text": [
      "modular-test :\n",
      "IP (V) = 6.5852\n",
      "EA (V) = 1.4600\n",
      "S0 -> S1 (eV) = 4.631\n",
      "F (a.u.) = 0.0010\n",
      "E Solv. = -0.754\n",
      "Session name: my_session\n",
      "Num. repeat units: 2\n",
      "Num. conformers: 10\n",
      "Solvent: benzene\n",
      "\n"
     ]
    }
   ],
   "source": [
    "session = polyhts.Session('my_session', 2, 10, solvent='benzene')\n",
    "session.screen('smiles-list.txt', nprocs=20)\n",
    "session.calc_polymer_properties('c1c(Br)cc(Br)cc1', 'c1c(Br)cc(Br)cc1', 'modular-test')\n",
    "print(session)"
   ]
  },
  {
   "cell_type": "markdown",
   "metadata": {},
   "source": [
    "### Session with no solvent, selected randomly"
   ]
  },
  {
   "cell_type": "code",
   "execution_count": 9,
   "metadata": {},
   "outputs": [
    {
     "name": "stdout",
     "output_type": "stream",
     "text": [
      "modular-test :\n",
      "IP (V) = 7.6994\n",
      "EA (V) = 0.3374\n",
      "S0 -> S1 (eV) = 4.636\n",
      "F (a.u.) = 0.0007\n",
      "Session name: my_session\n",
      "Num. repeat units: 2\n",
      "Num. conformers: 10\n",
      "\n"
     ]
    }
   ],
   "source": [
    "session = polyhts.Session('my_session', 2, 10)\n",
    "session.screen('smiles-list.txt', nprocs=20, random_select=True)\n",
    "session.calc_polymer_properties('c1c(Br)cc(Br)cc1', 'c1c(Br)cc(Br)cc1', 'modular-test')\n",
    "print(session)"
   ]
  },
  {
   "cell_type": "markdown",
   "metadata": {},
   "source": [
    "### Session with benzene, selected randomly"
   ]
  },
  {
   "cell_type": "code",
   "execution_count": 10,
   "metadata": {},
   "outputs": [
    {
     "name": "stdout",
     "output_type": "stream",
     "text": [
      "modular-test :\n",
      "IP (V) = 6.5865\n",
      "EA (V) = 1.4563\n",
      "S0 -> S1 (eV) = 4.636\n",
      "F (a.u.) = 0.0007\n",
      "E Solv. = -0.753\n",
      "Session name: my_session\n",
      "Num. repeat units: 2\n",
      "Num. conformers: 10\n",
      "Solvent: benzene\n",
      "\n"
     ]
    }
   ],
   "source": [
    "session = polyhts.Session('my_session', 2, 10, solvent='benzene')\n",
    "session.screen('smiles-list.txt', nprocs=20, random_select=True)\n",
    "session.calc_polymer_properties('c1c(Br)cc(Br)cc1', 'c1c(Br)cc(Br)cc1', 'modular-test')\n",
    "print(session)"
   ]
  },
  {
   "cell_type": "code",
   "execution_count": null,
   "metadata": {
    "collapsed": true
   },
   "outputs": [],
   "source": []
  }
 ],
 "metadata": {
  "kernelspec": {
   "display_name": "Python 3",
   "language": "python",
   "name": "python3"
  },
  "language_info": {
   "codemirror_mode": {
    "name": "ipython",
    "version": 3
   },
   "file_extension": ".py",
   "mimetype": "text/x-python",
   "name": "python",
   "nbconvert_exporter": "python",
   "pygments_lexer": "ipython3",
   "version": "3.6.2"
  }
 },
 "nbformat": 4,
 "nbformat_minor": 2
}
