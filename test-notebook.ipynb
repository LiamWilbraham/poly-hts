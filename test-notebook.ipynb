{
 "cells": [
  {
   "cell_type": "markdown",
   "metadata": {},
   "source": [
    "# Test polyhts "
   ]
  },
  {
   "cell_type": "code",
   "execution_count": 1,
   "metadata": {},
   "outputs": [
    {
     "name": "stdout",
     "output_type": "stream",
     "text": [
      "env: OMP_NUM_THREADS=1\n",
      "env: MLK_NUM_THREADS=1\n"
     ]
    }
   ],
   "source": [
    "import polyhts\n",
    "%env OMP_NUM_THREADS=1\n",
    "%env MLK_NUM_THREADS=1"
   ]
  },
  {
   "cell_type": "markdown",
   "metadata": {},
   "source": [
    "### Session with no solvent, selected in order"
   ]
  },
  {
   "cell_type": "code",
   "execution_count": 2,
   "metadata": {},
   "outputs": [
    {
     "name": "stdout",
     "output_type": "stream",
     "text": [
      "modular-test :\n",
      "IP (V) = 6.5856\n",
      "EA (V) = 1.4500\n",
      "S0 -> S1 (eV) = 4.651\n",
      "F (a.u.) = 0.0001\n",
      "E Solv. = -0.753\n",
      "Session name: my_session\n",
      "Num. repeat units: 2\n",
      "Num. conformers: 10\n",
      "Solvent: benzene\n",
      "\n"
     ]
    }
   ],
   "source": [
    "session = polyhts.Session('my_session', 2, 10, solvent='benzene')\n",
    "session.screen('smiles-list.txt', nprocs=20)\n",
    "session.calc_polymer_properties('c1c(Br)cc(Br)cc1', 'c1c(Br)cc(Br)cc1', 'modular-test')\n",
    "print(session)"
   ]
  },
  {
   "cell_type": "markdown",
   "metadata": {},
   "source": [
    "### Session with benzene solvent, selected in order"
   ]
  },
  {
   "cell_type": "code",
   "execution_count": 3,
   "metadata": {},
   "outputs": [
    {
     "name": "stdout",
     "output_type": "stream",
     "text": [
      "modular-test :\n",
      "IP (V) = 6.5801\n",
      "EA (V) = 1.4608\n",
      "S0 -> S1 (eV) = 4.643\n",
      "F (a.u.) = 0.0005\n",
      "E Solv. = -0.753\n",
      "Session name: my_session\n",
      "Num. repeat units: 2\n",
      "Num. conformers: 10\n",
      "Solvent: benzene\n",
      "\n"
     ]
    }
   ],
   "source": [
    "session = polyhts.Session('my_session', 2, 10, solvent='benzene')\n",
    "session.screen('smiles-list.txt', nprocs=20)\n",
    "session.calc_polymer_properties('c1c(Br)cc(Br)cc1', 'c1c(Br)cc(Br)cc1', 'modular-test')\n",
    "print(session)"
   ]
  },
  {
   "cell_type": "markdown",
   "metadata": {},
   "source": [
    "### Session with no solvent, selected randomly"
   ]
  },
  {
   "cell_type": "code",
   "execution_count": 2,
   "metadata": {},
   "outputs": [
    {
     "name": "stdout",
     "output_type": "stream",
     "text": [
      "modular-test :\n",
      "IP (V) = 7.6908\n",
      "EA (V) = 0.3364\n",
      "S0 -> S1 (eV) = 4.656\n",
      "F (a.u.) = 0.0002\n",
      "Session name: my_session\n",
      "Num. repeat units: 2\n",
      "Num. conformers: 10\n",
      "\n"
     ]
    }
   ],
   "source": [
    "session = polyhts.Session('my_session', 2, 10)\n",
    "session.screen('smiles-list.txt', nprocs=20, random_select=True)\n",
    "session.calc_polymer_properties('c1c(Br)cc(Br)cc1', 'c1c(Br)cc(Br)cc1', 'modular-test')\n",
    "print(session)"
   ]
  },
  {
   "cell_type": "markdown",
   "metadata": {},
   "source": [
    "### Session with benzene, selected randomly"
   ]
  },
  {
   "cell_type": "code",
   "execution_count": 3,
   "metadata": {},
   "outputs": [
    {
     "name": "stdout",
     "output_type": "stream",
     "text": [
      "modular-test :\n",
      "IP (V) = 6.5801\n",
      "EA (V) = 1.4608\n",
      "S0 -> S1 (eV) = 4.643\n",
      "F (a.u.) = 0.0005\n",
      "E Solv. = -0.753\n",
      "Session name: my_session\n",
      "Num. repeat units: 2\n",
      "Num. conformers: 10\n",
      "Solvent: benzene\n",
      "\n"
     ]
    }
   ],
   "source": [
    "session = polyhts.Session('my_session', 2, 10, solvent='benzene')\n",
    "session.screen('smiles-list.txt', nprocs=20, random_select=True)\n",
    "session.calc_polymer_properties('c1c(Br)cc(Br)cc1', 'c1c(Br)cc(Br)cc1', 'modular-test')\n",
    "print(session)"
   ]
  },
  {
   "cell_type": "code",
   "execution_count": 2,
   "metadata": {},
   "outputs": [
    {
     "name": "stdout",
     "output_type": "stream",
     "text": [
      "Session name: my_session\n",
      "Num. repeat units: 2\n",
      "Num. conformers: 10\n",
      "Solvent: benzene\n",
      "\n"
     ]
    }
   ],
   "source": [
    "session = polyhts.Session('my_session', 2, 10, solvent='benzene')\n",
    "session.screen('smiles-list.txt', nprocs=20, random_select=True)\n",
    "print(session)"
   ]
  },
  {
   "cell_type": "code",
   "execution_count": 5,
   "metadata": {},
   "outputs": [],
   "source": [
    "session = polyhts.Session('my_session', 2, 10, solvent='benzene')\n",
    "session.screen('smiles-list.txt', nprocs=15, all_combinations=False, \n",
    "               reference_monomer=['DBTO', 'O=S3(=O)c1cc(Br)ccc1c2ccc(Br)cc23'])"
   ]
  },
  {
   "cell_type": "code",
   "execution_count": null,
   "metadata": {
    "collapsed": true
   },
   "outputs": [],
   "source": []
  }
 ],
 "metadata": {
  "kernelspec": {
   "display_name": "Python 3",
   "language": "python",
   "name": "python3"
  },
  "language_info": {
   "codemirror_mode": {
    "name": "ipython",
    "version": 3
   },
   "file_extension": ".py",
   "mimetype": "text/x-python",
   "name": "python",
   "nbconvert_exporter": "python",
   "pygments_lexer": "ipython3",
   "version": "3.6.2"
  }
 },
 "nbformat": 4,
 "nbformat_minor": 2
}
